{
  "nbformat": 4,
  "nbformat_minor": 0,
  "metadata": {
    "colab": {
      "provenance": [],
      "include_colab_link": true
    },
    "kernelspec": {
      "name": "python3",
      "display_name": "Python 3"
    },
    "language_info": {
      "name": "python"
    }
  },
  "cells": [
    {
      "cell_type": "markdown",
      "metadata": {
        "id": "view-in-github",
        "colab_type": "text"
      },
      "source": [
        "<a href=\"https://colab.research.google.com/github/Ronaldo-khagokpam/DEEP-LEARNING/blob/main/aes_encryption_demo.ipynb\" target=\"_parent\"><img src=\"https://colab.research.google.com/assets/colab-badge.svg\" alt=\"Open In Colab\"/></a>"
      ]
    },
    {
      "cell_type": "code",
      "source": [
        "!pip install pycryptodome"
      ],
      "metadata": {
        "colab": {
          "base_uri": "https://localhost:8080/"
        },
        "id": "3_1JdexqjI7a",
        "outputId": "5a85f252-c9c8-4aa3-fbb8-f921409ad5cf"
      },
      "execution_count": 1,
      "outputs": [
        {
          "output_type": "stream",
          "name": "stdout",
          "text": [
            "Collecting pycryptodome\n",
            "  Downloading pycryptodome-3.21.0-cp36-abi3-manylinux_2_17_x86_64.manylinux2014_x86_64.whl.metadata (3.4 kB)\n",
            "Downloading pycryptodome-3.21.0-cp36-abi3-manylinux_2_17_x86_64.manylinux2014_x86_64.whl (2.3 MB)\n",
            "\u001b[2K   \u001b[90m━━━━━━━━━━━━━━━━━━━━━━━━━━━━━━━━━━━━━━━━\u001b[0m \u001b[32m2.3/2.3 MB\u001b[0m \u001b[31m19.7 MB/s\u001b[0m eta \u001b[36m0:00:00\u001b[0m\n",
            "\u001b[?25hInstalling collected packages: pycryptodome\n",
            "Successfully installed pycryptodome-3.21.0\n"
          ]
        }
      ]
    },
    {
      "cell_type": "code",
      "source": [
        "import numpy as np\n",
        "from Crypto.Cipher import AES"
      ],
      "metadata": {
        "id": "v3PMMR3VYv-S"
      },
      "execution_count": 2,
      "outputs": []
    },
    {
      "cell_type": "code",
      "execution_count": null,
      "metadata": {
        "id": "oPJExXI3P3I-"
      },
      "outputs": [],
      "source": [
        "# prompt: S_BOX for AES encryption in 16x16 matrix\n",
        "\n",
        "S_BOX = [\n",
        "    [0x63, 0x7c, 0x77, 0x7b, 0xf2, 0x6b, 0x6f, 0xc5, 0x30, 0x01, 0x67, 0x2b, 0xfe, 0xd7, 0xab, 0x76],\n",
        "    [0xca, 0x82, 0xc9, 0x7d, 0xfa, 0x59, 0x47, 0xf0, 0xad, 0xd4, 0xa2, 0xaf, 0x9c, 0xa4, 0x72, 0xc0],\n",
        "    [0xb7, 0xfd, 0x93, 0x26, 0x36, 0x3f, 0xf7, 0xcc, 0x34, 0xa5, 0xe5, 0xf1, 0x71, 0xd8, 0x31, 0x15],\n",
        "    [0x04, 0xc7, 0x23, 0xc3, 0x18, 0x96, 0x05, 0x9a, 0x07, 0x12, 0x80, 0xe2, 0xeb, 0x27, 0xb2, 0x75],\n",
        "    [0x09, 0x83, 0x2c, 0x1a, 0x1b, 0x6e, 0x5a, 0xa0, 0x52, 0x3b, 0xd6, 0xb3, 0x29, 0xe3, 0x2f, 0x84],\n",
        "    [0x53, 0xd1, 0x00, 0xed, 0x20, 0xfc, 0xb1, 0x5b, 0x6a, 0xcb, 0xbe, 0x39, 0x4a, 0x4c, 0x58, 0xcf],\n",
        "    [0xd0, 0xef, 0xaa, 0xfb, 0x43, 0x4d, 0x33, 0x85, 0x45, 0xf9, 0x02, 0x7f, 0x50, 0x3c, 0x9f, 0xa8],\n",
        "    [0x51, 0xa3, 0x40, 0x8f, 0x92, 0x9d, 0x38, 0xf5, 0xbc, 0xb6, 0xda, 0x21, 0x10, 0xff, 0xf3, 0xd2],\n",
        "    [0xcd, 0x0c, 0x13, 0xec, 0x5f, 0x97, 0x44, 0x17, 0xc4, 0xa7, 0x7e, 0x3d, 0x64, 0x5d, 0x19, 0x73],\n",
        "    [0x60, 0x81, 0x4f, 0xdc, 0x22, 0x2a, 0x90, 0x88, 0x46, 0xee, 0xb8, 0x14, 0xde, 0x5e, 0x0b, 0xdb],\n",
        "    [0xe0, 0x32, 0x3a, 0x0a, 0x49, 0x06, 0x24, 0x5c, 0xc2, 0xd3, 0xac, 0x62, 0x91, 0x95, 0xe4, 0x79],\n",
        "    [0xe7, 0xc8, 0x37, 0x6d, 0x8d, 0xd5, 0x4e, 0xa9, 0x6c, 0x56, 0xf4, 0xea, 0x65, 0x7a, 0xae, 0x08],\n",
        "    [0xba, 0x78, 0x25, 0x2e, 0x1c, 0xa6, 0xb4, 0xc6, 0xe8, 0xdd, 0x74, 0x1f, 0x4b, 0xbd, 0x8b, 0x8a],\n",
        "    [0x70, 0x3e, 0xb5, 0x66, 0x48, 0x03, 0xf6, 0x0e, 0x61, 0x35, 0x57, 0xb9, 0x86, 0xc1, 0x1d, 0x9e],\n",
        "    [0xe1, 0xf8, 0x98, 0x11, 0x69, 0xd9, 0x8e, 0x94, 0x9b, 0x1e, 0x87, 0xe9, 0xce, 0x55, 0x28, 0xdf],\n",
        "    [0x8c, 0xa1, 0x89, 0x0d, 0xbf, 0xe6, 0x42, 0x68, 0x41, 0x99, 0x2d, 0x0f, 0xb0, 0x54, 0xbb, 0x16]\n",
        "]\n",
        "INV_S_BOX = [\n",
        "    [0x52, 0x09, 0x6A, 0xD5, 0x30, 0x36, 0xA5, 0x38, 0xBF, 0x40, 0xA3, 0x9E, 0x81, 0xF3, 0xD7, 0xFB],\n",
        "    [0x7C, 0xE3, 0x39, 0x82, 0x9B, 0x2F, 0xFF, 0x87, 0x34, 0x8E, 0x43, 0x44, 0xC4, 0xDE, 0xE9, 0xCB],\n",
        "    [0x54, 0x7B, 0x94, 0x32, 0xA6, 0xC2, 0x23, 0x3D, 0xEE, 0x4C, 0x95, 0x0B, 0x42, 0xFA, 0xC3, 0x4E],\n",
        "    [0x08, 0x2E, 0xA1, 0x66, 0x28, 0xD9, 0x24, 0xB2, 0x76, 0x5B, 0xA2, 0x49, 0x6D, 0x8B, 0xD1, 0x25],\n",
        "    [0x72, 0xF8, 0xF6, 0x64, 0x86, 0x68, 0x98, 0x16, 0xD4, 0xA4, 0x5C, 0xCC, 0x5D, 0x65, 0xB6, 0x92],\n",
        "    [0x6C, 0x70, 0x48, 0x50, 0xFD, 0xED, 0xB9, 0xDA, 0x5E, 0x15, 0x46, 0x57, 0xA7, 0x8D, 0x9D, 0x84],\n",
        "    [0x90, 0xD8, 0xAB, 0x00, 0x8C, 0xBC, 0xD3, 0x0A, 0xF7, 0xE4, 0x58, 0x05, 0xB8, 0xB3, 0x45, 0x06],\n",
        "    [0xD0, 0x2C, 0x1E, 0x8F, 0xCA, 0x3F, 0x0F, 0x02, 0xC1, 0xAF, 0xBD, 0x03, 0x01, 0x13, 0x8A, 0x6B],\n",
        "    [0x3A, 0x91, 0x11, 0x41, 0x4F, 0x67, 0xDC, 0xEA, 0x97, 0xF2, 0xCF, 0xCE, 0xF0, 0xB4, 0xE6, 0x73],\n",
        "    [0x96, 0xAC, 0x74, 0x22, 0xE7, 0xAD, 0x35, 0x85, 0xE2, 0xF9, 0x37, 0xE8, 0x1C, 0x75, 0xDF, 0x6E],\n",
        "    [0x47, 0xF1, 0x1A, 0x71, 0x1D, 0x29, 0xC5, 0x89, 0x6F, 0xB7, 0x62, 0x0E, 0xAA, 0x18, 0xBE, 0x1B],\n",
        "    [0xFC, 0x56, 0x3E, 0x4B, 0xC6, 0xD2, 0x79, 0x20, 0x9A, 0xDB, 0xC0, 0xFE, 0x78, 0xCD, 0x5A, 0xF4],\n",
        "    [0x1F, 0xDD, 0xA8, 0x33, 0x88, 0x07, 0xC7, 0x31, 0xB1, 0x12, 0x10, 0x59, 0x27, 0x80, 0xEC, 0x5F],\n",
        "    [0x60, 0x51, 0x7F, 0xA9, 0x19, 0xB5, 0x4A, 0x0D, 0x2D, 0xE5, 0x7A, 0x9F, 0x93, 0xC9, 0x9C, 0xEF],\n",
        "    [0xA0, 0xE0, 0x3B, 0x4D, 0xAE, 0x2A, 0xF5, 0xB0, 0xC8, 0xEB, 0xBB, 0x3C, 0x83, 0x53, 0x99, 0x61],\n",
        "    [0x17, 0x2B, 0x04, 0x7E, 0xBA, 0x77, 0xD6, 0x26, 0xE1, 0x69, 0x14, 0x63, 0x55, 0x21, 0x0C, 0x7D]\n",
        "]"
      ]
    },
    {
      "cell_type": "code",
      "source": [
        "# prompt: K_S_BOX and RCON values for AES-128 128 bit Key expansion\n",
        "'''\n",
        "RCON = [\n",
        "    0x01, 0x02, 0x04, 0x08, 0x10, 0x20, 0x40, 0x80, 0x1b, 0x36,\n",
        "    0x6c, 0xd8, 0xab, 0x4d, 0x9a, 0x2f, 0x5e, 0xbc, 0x63, 0xc6,\n",
        "    0x97, 0x35, 0x6a, 0xd4, 0xb3, 0x7d, 0xfa, 0xef, 0xc5, 0x91,\n",
        "    0x39, 0x72, 0xe4, 0xd3, 0xbd, 0x61, 0xc2, 0x9f, 0x25, 0x4a,\n",
        "    0x94, 0x33, 0x66, 0xcc, 0x83, 0x1d, 0x3a, 0x74, 0xe8, 0xcb,\n",
        "    0x8d\n",
        "]'''\n",
        "RCON = [\n",
        "    0x01, 0x02, 0x04, 0x08, 0x10, 0x20, 0x40, 0x80, 0x1b, 0x36\n",
        "]"
      ],
      "metadata": {
        "id": "R5mPfv8nV5El"
      },
      "execution_count": 3,
      "outputs": []
    },
    {
      "cell_type": "code",
      "source": [
        "# RotWord function: Left circular shift of a 4-byte word\n",
        "def rot_word(word):\n",
        "    return word[1:] + word[:1]\n",
        "\n",
        "# SubWord function: Apply the S-Box substitution to a 4-byte word\n",
        "def sub_word(word):\n",
        "    return [S_BOX[b >> 4][b & 0x0F] for b in word]\n",
        "\n",
        "# AES key expansion function for encryption\n",
        "def key_expansion(key, Nk=4, Nr=10):\n",
        "    # Nk: Number of 32-bit words in the key (4 for 128-bit key)\n",
        "    # Nr: Number of rounds (10 for 128-bit key)\n",
        "\n",
        "    Nb = 4  # Number of columns in the state (always 4 for AES)\n",
        "    W = []  # Expanded key (4-byte words)\n",
        "\n",
        "    # Split the initial key into 4-byte words\n",
        "    for i in range(Nk):\n",
        "        W.append(key[4 * i: 4 * (i + 1)])\n",
        "\n",
        "    # Generate all round keys\n",
        "    for i in range(Nk, Nb * (Nr + 1)):\n",
        "        temp = W[i - 1]\n",
        "        if i % Nk == 0:\n",
        "            temp = sub_word(rot_word(temp))\n",
        "            temp[0] ^= RCON[i // Nk - 1]\n",
        "        elif Nk > 6 and i % Nk == 4:\n",
        "            temp = sub_word(temp)\n",
        "        W.append([W[i - Nk][j] ^ temp[j] for j in range(4)])\n",
        "\n",
        "    # Flatten the list of round keys\n",
        "    return [byte for word in W for byte in word]\n",
        "\n",
        "def decryption_key_expansion(key, Nk=4, Nr=10):\n",
        "    expanded_key = key_expansion(key, Nk, Nr)\n",
        "    Nb = 4\n",
        "\n",
        "    # Reverse the round keys for decryption\n",
        "    round_keys = [expanded_key[i:i + 4 * Nb] for i in range(0, len(expanded_key), 4 * Nb)]\n",
        "    round_keys = round_keys[::-1]\n",
        "\n",
        "    # Apply InvMixColumns to all but the first and last round keys\n",
        "    def inv_mix_columns(state):\n",
        "        # Inverse MixColumns transformation matrix\n",
        "        mix_matrix = [\n",
        "            [0x0e, 0x0b, 0x0d, 0x09],\n",
        "            [0x09, 0x0e, 0x0b, 0x0d],\n",
        "            [0x0d, 0x09, 0x0e, 0x0b],\n",
        "            [0x0b, 0x0d, 0x09, 0x0e]\n",
        "        ]\n",
        "\n",
        "        def gmul(a, b):\n",
        "            p = 0\n",
        "            for _ in range(8):\n",
        "                if b & 1:\n",
        "                    p ^= a\n",
        "                hi_bit_set = a & 0x80\n",
        "                a = (a << 1) & 0xFF\n",
        "                if hi_bit_set:\n",
        "                    a ^= 0x1b\n",
        "                b >>= 1\n",
        "            return p\n",
        "\n",
        "        result = []\n",
        "        for i in range(4):\n",
        "            result.append([\n",
        "                gmul(mix_matrix[i][0], state[0][j]) ^\n",
        "                gmul(mix_matrix[i][1], state[1][j]) ^\n",
        "                gmul(mix_matrix[i][2], state[2][j]) ^\n",
        "                gmul(mix_matrix[i][3], state[3][j]) for j in range(4)\n",
        "            ])\n",
        "        return [byte for row in result for byte in row]\n",
        "\n",
        "    for i in range(1, len(round_keys) - 1):\n",
        "        round_keys[i] = inv_mix_columns([round_keys[i][j:j + 4] for j in range(0, len(round_keys[i]), 4)])\n",
        "\n",
        "    # Flatten the list of reversed round keys\n",
        "    return [byte for round_key in round_keys for byte in round_key]"
      ],
      "metadata": {
        "id": "khYWJFmo32gP"
      },
      "execution_count": 4,
      "outputs": []
    },
    {
      "cell_type": "markdown",
      "source": [
        "## ENCRYPTION FUNCTIONS\n",
        "\n"
      ],
      "metadata": {
        "id": "wtRRwKgRgAa7"
      }
    },
    {
      "cell_type": "code",
      "source": [
        "def sub_bytes(state):\n",
        "    \"\"\"Apply the SubBytes transformation using the AES S-Box.\"\"\"\n",
        "    return np.vectorize(lambda x: S_BOX[x >> 4][x & 0x0F])(state)\n",
        "\n",
        "def shift_rows(state):\n",
        "    \"\"\"Apply the ShiftRows transformation by cyclically shifting each row.\"\"\"\n",
        "    rows, cols = state.shape\n",
        "    shifted_state = np.copy(state)\n",
        "    for i in range(rows):\n",
        "        shifted_state[i] = np.roll(shifted_state[i], -i)\n",
        "    return shifted_state\n",
        "# Galois Field multiplication by 2, 3, and 1\n",
        "def galois_multiply(a, b):\n",
        "    \"\"\" Multiply two numbers in GF(2^8) using AES field multiplication. \"\"\"\n",
        "    result = 0\n",
        "    while b > 0:\n",
        "        if b & 1:\n",
        "            result ^= a\n",
        "        a = (a << 1) ^ (0x11B if a & 0x80 else 0)  # Multiply by 2 (mod x^8 + x^4 + x^3 + x + 1)\n",
        "        b >>= 1\n",
        "    return result\n",
        "\n",
        "def mix_columns(state):\n",
        "    \"\"\" Perform the MixColumns operation on the state matrix in AES. \"\"\"\n",
        "    # The MixColumns matrix\n",
        "    mix_matrix = [\n",
        "        [0x02, 0x03, 0x01, 0x01],\n",
        "        [0x01, 0x02, 0x03, 0x01],\n",
        "        [0x01, 0x01, 0x02, 0x03],\n",
        "        [0x03, 0x01, 0x01, 0x02]\n",
        "    ]\n",
        "\n",
        "    # Output state after mix columns\n",
        "    new_state = [[0] * 4 for _ in range(4)]\n",
        "\n",
        "    # Perform the matrix multiplication for each column\n",
        "    for c in range(4):  # For each column\n",
        "        for r in range(4):  # For each row\n",
        "            new_state[r][c] = 0\n",
        "            for i in range(4):  # Perform the multiplication and addition (XOR) in GF(2^8)\n",
        "                new_state[r][c] ^= galois_multiply(state[i][c], mix_matrix[r][i])\n",
        "\n",
        "    return new_state\n",
        "\n",
        "def add_round_key(state, round_key):\n",
        "    return np.bitwise_xor(state, np.array(round_key, dtype=np.uint8))\n"
      ],
      "metadata": {
        "id": "tVdtoaIEQIrP"
      },
      "execution_count": 7,
      "outputs": []
    },
    {
      "cell_type": "markdown",
      "source": [
        "## INVERSION FUNCTIONS"
      ],
      "metadata": {
        "id": "HRchKM0Lgcqb"
      }
    },
    {
      "cell_type": "code",
      "source": [
        "def inv_sub_bytes(state):\n",
        "    \"\"\"Apply the Inverse SubBytes transformation using the AES S-Box.\"\"\"\n",
        "    for i in range(4):\n",
        "        for j in range(4):\n",
        "            state[i][j] = INV_S_BOX[state[i][j] >> 4][state[i][j] & 0x0F]  # Apply the inverse S-Box\n",
        "    return state\n",
        "\n",
        "def inv_shift_rows(state):\n",
        "    \"\"\"Apply the Inverse ShiftRows transformation by cyclically shifting each row.\"\"\"\n",
        "    for i in range(1, 4):\n",
        "        state[i] = np.roll(state[i], i)\n",
        "    return state\n",
        "\n",
        "def inv_mix_columns(state):\n",
        "    \"\"\"Perform the inverse MixColumns operation on the state matrix in AES.\"\"\"\n",
        "    # The inverse MixColumns matrix\n",
        "    inv_mix_matrix = [\n",
        "        [0x0e, 0x0b, 0x0d, 0x09],\n",
        "        [0x09, 0x0e, 0x0b, 0x0d],\n",
        "        [0x0d, 0x09, 0x0e, 0x0b],\n",
        "        [0x0b, 0x0d, 0x09, 0x0e]\n",
        "    ]\n",
        "\n",
        "    # Output state after inverse mix columns\n",
        "    new_state = [[0] * 4 for _ in range(4)]\n",
        "    # Perform the matrix multiplication for each column\n",
        "    for c in range(4):  # For each column\n",
        "        for r in range(4):  # For each row\n",
        "            new_state[r][c] = 0\n",
        "            for i in range(4):  # Perform the multiplication and addition (XOR) in GF(2^8)\n",
        "                new_state[r][c] ^= galois_multiply(state[i][c], inv_mix_matrix[r][i])\n",
        "\n",
        "    return new_state\n"
      ],
      "metadata": {
        "id": "eEITdaPJZVJF"
      },
      "execution_count": 8,
      "outputs": []
    },
    {
      "cell_type": "code",
      "source": [
        "def round_function(state, round_key):\n",
        "    state = sub_bytes(state)\n",
        "    state = shift_rows(state)\n",
        "    state = mix_columns(state)\n",
        "    state = add_round_key(state, round_key)\n",
        "    return state\n",
        "\n",
        "def inv_round_function(state, round_key):\n",
        "    state = add_round_key(state, round_key)\n",
        "    state = inv_mix_columns(state)\n",
        "    state = inv_shift_rows(state)\n",
        "    state = inv_sub_bytes(state)\n",
        "    return state"
      ],
      "metadata": {
        "id": "I_gGiJspTAM-"
      },
      "execution_count": 9,
      "outputs": []
    },
    {
      "cell_type": "code",
      "source": [
        "def aes_encrypt(plaintext, key):\n",
        "    \"\"\"Encrypt the plaintext using AES.\"\"\"\n",
        "    state = np.array(plaintext).reshape((4, 4))\n",
        "    round_keys = key_expansion(key)\n",
        "    # Initial Round\n",
        "    state = add_round_key(state, round_keys[0])\n",
        "    # Main Rounds N_R-1\n",
        "    for i in range(1, Nr):\n",
        "        state = round_function(state, round_keys[i])\n",
        "    # Final Round\n",
        "    state = sub_bytes(state)\n",
        "    state = shift_rows(state)\n",
        "    state = add_round_key(state, round_keys[Nr])\n",
        "    return state.flatten().tolist()"
      ],
      "metadata": {
        "id": "b3iO1bjnT4gf"
      },
      "execution_count": null,
      "outputs": []
    },
    {
      "cell_type": "code",
      "source": [
        "def aes_decrypt(ciphertext, key):\n",
        "    \"\"\"Decrypt the ciphertext using AES.\"\"\"\n",
        "    state = np.array(ciphertext).reshape((4, 4))\n",
        "    round_keys = decryption_key_expansion(key)  # Use decryption key schedule\n",
        "\n",
        "    # Initial Round\n",
        "    state = add_round_key(state, round_keys[Nr])  # Use last round key\n",
        "\n",
        "    # Main Rounds\n",
        "    for i in range(Nr - 1, 0, -1):  # Iterate in reverse\n",
        "        state = inv_round_function(state, round_keys[i])\n",
        "\n",
        "    # Final Round\n",
        "    state = inv_sub_bytes(state)\n",
        "    state = inv_shift_rows(state)\n",
        "    state = add_round_key(state, round_keys[0])  # Use first round key\n",
        "\n",
        "    return state.flatten().tolist()"
      ],
      "metadata": {
        "id": "crPLC5kXajTH"
      },
      "execution_count": null,
      "outputs": []
    },
    {
      "cell_type": "code",
      "source": [
        "# TESTING Encryption\n",
        "plaintext = 'Hello+World!!!!!'\n",
        "plaintext_bytes = bytearray(plaintext, 'utf-8')\n",
        "print(\"Plain Bytes: \", plaintext_bytes)\n",
        "key = [0x2b, 0x7e, 0x15, 0x16, 0x28, 0xae, 0xd2, 0xa6, 0xab, 0xf7, 0xcf, 0xfa, 0xe7, 0x8d, 0x48, 0x31]\n",
        "Nk = 4  # 4 words for AES-128\n",
        "Nr = 10  # 10 rounds for AES-128\n",
        "# Start Encryption\n",
        "ciphertext = aes_encrypt(plaintext_bytes, key)\n",
        "print(\"Ciphertext:\", ciphertext)"
      ],
      "metadata": {
        "id": "WjgAUeAeTpkA",
        "colab": {
          "base_uri": "https://localhost:8080/",
          "height": 210
        },
        "outputId": "677001b4-3475-4281-aac8-f3e04ae0bce9"
      },
      "execution_count": null,
      "outputs": [
        {
          "output_type": "stream",
          "name": "stdout",
          "text": [
            "Plain Bytes:  bytearray(b'Hello+World!!!!!')\n"
          ]
        },
        {
          "output_type": "error",
          "ename": "NameError",
          "evalue": "name 'aes_encrypt' is not defined",
          "traceback": [
            "\u001b[0;31m---------------------------------------------------------------------------\u001b[0m",
            "\u001b[0;31mNameError\u001b[0m                                 Traceback (most recent call last)",
            "\u001b[0;32m<ipython-input-4-c7e4c3d348c0>\u001b[0m in \u001b[0;36m<cell line: 9>\u001b[0;34m()\u001b[0m\n\u001b[1;32m      7\u001b[0m \u001b[0mNr\u001b[0m \u001b[0;34m=\u001b[0m \u001b[0;36m10\u001b[0m  \u001b[0;31m# 10 rounds for AES-128\u001b[0m\u001b[0;34m\u001b[0m\u001b[0;34m\u001b[0m\u001b[0m\n\u001b[1;32m      8\u001b[0m \u001b[0;31m# Start Encryption\u001b[0m\u001b[0;34m\u001b[0m\u001b[0;34m\u001b[0m\u001b[0m\n\u001b[0;32m----> 9\u001b[0;31m \u001b[0mciphertext\u001b[0m \u001b[0;34m=\u001b[0m \u001b[0maes_encrypt\u001b[0m\u001b[0;34m(\u001b[0m\u001b[0mplaintext_bytes\u001b[0m\u001b[0;34m,\u001b[0m \u001b[0mkey\u001b[0m\u001b[0;34m)\u001b[0m\u001b[0;34m\u001b[0m\u001b[0;34m\u001b[0m\u001b[0m\n\u001b[0m\u001b[1;32m     10\u001b[0m \u001b[0mprint\u001b[0m\u001b[0;34m(\u001b[0m\u001b[0;34m\"Ciphertext:\"\u001b[0m\u001b[0;34m,\u001b[0m \u001b[0mciphertext\u001b[0m\u001b[0;34m)\u001b[0m\u001b[0;34m\u001b[0m\u001b[0;34m\u001b[0m\u001b[0m\n",
            "\u001b[0;31mNameError\u001b[0m: name 'aes_encrypt' is not defined"
          ]
        }
      ]
    },
    {
      "cell_type": "code",
      "source": [
        "# TESTING Decryption\n",
        "key = [0x2b, 0x7e, 0x15, 0x16, 0x28, 0xae, 0xd2, 0xa6, 0xab, 0xf7, 0xcf, 0xfa, 0xe7, 0x8d, 0x48, 0x31]\n",
        "Nk = 4  # 4 words for AES-128\n",
        "Nr = 10  # 10 rounds for AES-128\n",
        "plain = aes_decrypt(ciphertext, key)\n",
        "print(\"Plaintext:\", plain)\n",
        "#Print out the value of plain into ASCII characters\n",
        "print(''.join(chr(p) for p in plain))"
      ],
      "metadata": {
        "id": "nLN_tzqCcFZ-"
      },
      "execution_count": null,
      "outputs": []
    }
  ]
}