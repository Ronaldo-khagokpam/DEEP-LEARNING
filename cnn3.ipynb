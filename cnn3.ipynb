{
  "nbformat": 4,
  "nbformat_minor": 0,
  "metadata": {
    "colab": {
      "provenance": [],
      "authorship_tag": "ABX9TyPI5ZMpy9ht87qFIwYSIQEH",
      "include_colab_link": true
    },
    "kernelspec": {
      "name": "python3",
      "display_name": "Python 3"
    },
    "language_info": {
      "name": "python"
    }
  },
  "cells": [
    {
      "cell_type": "markdown",
      "metadata": {
        "id": "view-in-github",
        "colab_type": "text"
      },
      "source": [
        "<a href=\"https://colab.research.google.com/github/Ronaldo-khagokpam/DEEP-LEARNING/blob/main/cnn3.ipynb\" target=\"_parent\"><img src=\"https://colab.research.google.com/assets/colab-badge.svg\" alt=\"Open In Colab\"/></a>"
      ]
    },
    {
      "cell_type": "code",
      "execution_count": null,
      "metadata": {
        "id": "xHxpYUgogIDo"
      },
      "outputs": [],
      "source": [
        "import torch as F\n",
        "import torch.nn as nn\n",
        "import torchvision\n",
        "import torchvision.transforms as transforms\n",
        "from sklearn.metrics import confusion_matrix, accuracy_score, precision_score, recall_score, f1_score\n",
        "\n",
        "# Define the CNN model\n",
        "class CNN(nn.Module):\n",
        "    def _init_(self):\n",
        "        super(CNN, self)._init_()\n",
        "        self.conv1 = nn.Conv2d(3, 6, 5)\n",
        "        self.pool = nn.MaxPool2d(2, 2)\n",
        "        self.conv2 = nn.Conv2d(6, 16, 5)\n",
        "        self.fc1 = nn.Linear(16*5*5, 120)\n",
        "        self.fc2 = nn.Linear(120, 84)\n",
        "        self.fc3 = nn.Linear(84, 10)\n",
        "\n",
        "    def forward(self,trainset):\n",
        "        trainset = self.pool(F.relu(self.conv1(trainset)))\n",
        "        trainset = self.pool(F.relu(self.conv2(trainset)))\n",
        "        trainset = trainset.view(-1, 16*5*5)\n",
        "        trainset = F.relu(self.fc1(trainset))\n",
        "        trainset = F.relu(self.fc2(trainset))\n",
        "        trainset = self.fc3(trainset)\n",
        "        return trainset\n",
        "\n",
        "# Set the device (GPU or CPU)\n",
        "device = torch.device(\"cuda\" if torch.cuda.is_available() else \"cpu\")\n",
        "\n",
        "# Load the Cifar10 dataset\n",
        "transform = transforms.Compose([transforms.ToTensor()])\n",
        "trainset = torchvision.datasets.CIFAR10(root='./data', train=True, download=True, transform=transform)\n",
        "trainloader = torch.utils.data.DataLoader(trainset, batch_size=32, shuffle=True)\n",
        "testset = torchvision.datasets.CIFAR10(root='./data', train=False, download=True, transform=transform)\n",
        "testloader = torch.utils.data.DataLoader(testset, batch_size=32, shuffle=False)\n",
        "\n",
        "# Initialize the CNN model and optimizer\n",
        "model = CNN().to(device)\n",
        "criterion = nn.CrossEntropyLoss()\n",
        "optimizer = torch.optim.SGD(model.parameters(), lr=0.001)\n",
        "\n",
        "# Train the model\n",
        "for epoch in range(20):\n",
        "    for x, y in trainloader:\n",
        "\n",
        "        x, y = torch.Tensor(x).to(device), torch.Tensor(y).to(device)\n",
        "        optimizer.zero_grad()\n",
        "        output = model(x)\n",
        "        loss = criterion(output, y)\n",
        "        loss.backward()\n",
        "        optimizer.step()\n",
        "    print(f'Epoch {epoch+1}, Loss: {loss.item()}')\n",
        "\n",
        "# Evaluate the model\n",
        "model.eval()\n",
        "test_loss = 0\n",
        "correct = 0\n",
        "y_pred = []\n",
        "y_true = []\n",
        "with torch.no_grad():\n",
        "    for x, y in testloader:\n",
        "        x, y = torch.Tensor(x).to(device), torch.Tensor(y).to(device)\n",
        "        output = model(x)\n",
        "        loss = criterion(output, y)\n",
        "        test_loss += loss.item()\n",
        "        _, predicted = torch.max(output, 1)\n",
        "        correct += (predicted == y).sum().item()\n",
        "        y_pred.extend(predicted.cpu().numpy())\n",
        "        y_true.extend(y.cpu().numpy())\n",
        "\n",
        "accuracy = accuracy_score(y_true, y_pred)\n",
        "precision = precision_score(y_true, y_pred, average='macro')\n",
        "recall = recall_score(y_true, y_pred, average='macro')\n",
        "f1 = f1_score(y_true, y_pred, average='macro')\n",
        "conf_mat = confusion_matrix(y_true, y_pred)\n",
        "\n",
        "print(f'Test Loss: {test_loss / len(testloader)}')\n",
        "print(f'Test Accuracy: {accuracy:.2f}%')\n",
        "print(f'Test Precision: {precision:.2f}%')\n",
        "print(f'Test Recall: {recall:.2f}%')\n",
        "print(f'Test F1 Score: {f1:.2f}%')\n",
        "print(f'Confusion Matrix: \\n{conf_mat}')"
      ]
    },
    {
      "cell_type": "code",
      "source": [],
      "metadata": {
        "id": "ePBqbyV7gPaB"
      },
      "execution_count": null,
      "outputs": []
    }
  ]
}